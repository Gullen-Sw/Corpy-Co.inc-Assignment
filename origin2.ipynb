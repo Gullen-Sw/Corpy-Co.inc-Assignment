{
  "nbformat": 4,
  "nbformat_minor": 0,
  "metadata": {
    "colab": {
      "name": "origin2.ipynb",
      "provenance": [],
      "collapsed_sections": [],
      "mount_file_id": "19DoLy0wfQfGCSNQk1YfOzOtiefwSF2Tw",
      "authorship_tag": "ABX9TyMPliNMjzxI+GikN5ugSEz3",
      "include_colab_link": true
    },
    "kernelspec": {
      "name": "python3",
      "display_name": "Python 3"
    },
    "language_info": {
      "name": "python"
    }
  },
  "cells": [
    {
      "cell_type": "markdown",
      "metadata": {
        "id": "view-in-github",
        "colab_type": "text"
      },
      "source": [
        "<a href=\"https://colab.research.google.com/github/Gullen-Sw/Corpy-Co.inc-Assignment/blob/main/origin2.ipynb\" target=\"_parent\"><img src=\"https://colab.research.google.com/assets/colab-badge.svg\" alt=\"Open In Colab\"/></a>"
      ]
    },
    {
      "cell_type": "code",
      "execution_count": 68,
      "metadata": {
        "colab": {
          "base_uri": "https://localhost:8080/",
          "height": 488
        },
        "id": "vuj4L8E7zUCD",
        "outputId": "178b5436-37ac-4cb2-b0a9-4f874283540c"
      },
      "outputs": [
        {
          "output_type": "stream",
          "name": "stdout",
          "text": [
            "Found 1498 files belonging to 2 classes.\n",
            "Using 1199 files for training.\n",
            "Found 1498 files belonging to 2 classes.\n",
            "Using 299 files for validation.\n"
          ]
        },
        {
          "output_type": "error",
          "ename": "TypeError",
          "evalue": "ignored",
          "traceback": [
            "\u001b[0;31m---------------------------------------------------------------------------\u001b[0m",
            "\u001b[0;31mTypeError\u001b[0m                                 Traceback (most recent call last)",
            "\u001b[0;32m<ipython-input-68-e4b0c889a9aa>\u001b[0m in \u001b[0;36m<module>\u001b[0;34m()\u001b[0m\n\u001b[1;32m    136\u001b[0m \u001b[0mepochs\u001b[0m\u001b[0;34m=\u001b[0m\u001b[0;36m10\u001b[0m\u001b[0;34m\u001b[0m\u001b[0;34m\u001b[0m\u001b[0m\n\u001b[1;32m    137\u001b[0m model.compile(optimizer = keras.optimizers.Adam(1e-3),\n\u001b[0;32m--> 138\u001b[0;31m               \u001b[0mloss\u001b[0m \u001b[0;34m=\u001b[0m \u001b[0mkeras\u001b[0m\u001b[0;34m.\u001b[0m\u001b[0mlosses\u001b[0m\u001b[0;34m.\u001b[0m\u001b[0mbinary_crossentropy\u001b[0m\u001b[0;34m(\u001b[0m\u001b[0;34m)\u001b[0m\u001b[0;34m,\u001b[0m\u001b[0;34m\u001b[0m\u001b[0;34m\u001b[0m\u001b[0m\n\u001b[0m\u001b[1;32m    139\u001b[0m               metrics=['accuracy'])\n\u001b[1;32m    140\u001b[0m \u001b[0;34m\u001b[0m\u001b[0m\n",
            "\u001b[0;32m/usr/local/lib/python3.7/dist-packages/tensorflow/python/util/traceback_utils.py\u001b[0m in \u001b[0;36merror_handler\u001b[0;34m(*args, **kwargs)\u001b[0m\n\u001b[1;32m    151\u001b[0m     \u001b[0;32mexcept\u001b[0m \u001b[0mException\u001b[0m \u001b[0;32mas\u001b[0m \u001b[0me\u001b[0m\u001b[0;34m:\u001b[0m\u001b[0;34m\u001b[0m\u001b[0;34m\u001b[0m\u001b[0m\n\u001b[1;32m    152\u001b[0m       \u001b[0mfiltered_tb\u001b[0m \u001b[0;34m=\u001b[0m \u001b[0m_process_traceback_frames\u001b[0m\u001b[0;34m(\u001b[0m\u001b[0me\u001b[0m\u001b[0;34m.\u001b[0m\u001b[0m__traceback__\u001b[0m\u001b[0;34m)\u001b[0m\u001b[0;34m\u001b[0m\u001b[0;34m\u001b[0m\u001b[0m\n\u001b[0;32m--> 153\u001b[0;31m       \u001b[0;32mraise\u001b[0m \u001b[0me\u001b[0m\u001b[0;34m.\u001b[0m\u001b[0mwith_traceback\u001b[0m\u001b[0;34m(\u001b[0m\u001b[0mfiltered_tb\u001b[0m\u001b[0;34m)\u001b[0m \u001b[0;32mfrom\u001b[0m \u001b[0;32mNone\u001b[0m\u001b[0;34m\u001b[0m\u001b[0;34m\u001b[0m\u001b[0m\n\u001b[0m\u001b[1;32m    154\u001b[0m     \u001b[0;32mfinally\u001b[0m\u001b[0;34m:\u001b[0m\u001b[0;34m\u001b[0m\u001b[0;34m\u001b[0m\u001b[0m\n\u001b[1;32m    155\u001b[0m       \u001b[0;32mdel\u001b[0m \u001b[0mfiltered_tb\u001b[0m\u001b[0;34m\u001b[0m\u001b[0;34m\u001b[0m\u001b[0m\n",
            "\u001b[0;32m/usr/local/lib/python3.7/dist-packages/tensorflow/python/util/dispatch.py\u001b[0m in \u001b[0;36mop_dispatch_handler\u001b[0;34m(*args, **kwargs)\u001b[0m\n\u001b[1;32m   1074\u001b[0m         \u001b[0;32mif\u001b[0m \u001b[0miterable_params\u001b[0m \u001b[0;32mis\u001b[0m \u001b[0;32mnot\u001b[0m \u001b[0;32mNone\u001b[0m\u001b[0;34m:\u001b[0m\u001b[0;34m\u001b[0m\u001b[0;34m\u001b[0m\u001b[0m\n\u001b[1;32m   1075\u001b[0m           \u001b[0margs\u001b[0m\u001b[0;34m,\u001b[0m \u001b[0mkwargs\u001b[0m \u001b[0;34m=\u001b[0m \u001b[0mreplace_iterable_params\u001b[0m\u001b[0;34m(\u001b[0m\u001b[0margs\u001b[0m\u001b[0;34m,\u001b[0m \u001b[0mkwargs\u001b[0m\u001b[0;34m,\u001b[0m \u001b[0miterable_params\u001b[0m\u001b[0;34m)\u001b[0m\u001b[0;34m\u001b[0m\u001b[0;34m\u001b[0m\u001b[0m\n\u001b[0;32m-> 1076\u001b[0;31m         \u001b[0mresult\u001b[0m \u001b[0;34m=\u001b[0m \u001b[0mapi_dispatcher\u001b[0m\u001b[0;34m.\u001b[0m\u001b[0mDispatch\u001b[0m\u001b[0;34m(\u001b[0m\u001b[0margs\u001b[0m\u001b[0;34m,\u001b[0m \u001b[0mkwargs\u001b[0m\u001b[0;34m)\u001b[0m\u001b[0;34m\u001b[0m\u001b[0;34m\u001b[0m\u001b[0m\n\u001b[0m\u001b[1;32m   1077\u001b[0m         \u001b[0;32mif\u001b[0m \u001b[0mresult\u001b[0m \u001b[0;32mis\u001b[0m \u001b[0;32mnot\u001b[0m \u001b[0mNotImplemented\u001b[0m\u001b[0;34m:\u001b[0m\u001b[0;34m\u001b[0m\u001b[0;34m\u001b[0m\u001b[0m\n\u001b[1;32m   1078\u001b[0m           \u001b[0;32mreturn\u001b[0m \u001b[0mresult\u001b[0m\u001b[0;34m\u001b[0m\u001b[0;34m\u001b[0m\u001b[0m\n",
            "\u001b[0;31mTypeError\u001b[0m: Missing required positional argument"
          ]
        }
      ],
      "source": [
        "#Reference\n",
        "#https://towardsdatascience.com/loading-custom-image-dataset-for-deep-learning-models-part-1-d64fa7aaeca6\n",
        "#https://ivo-lee.tistory.com/91\n",
        "#https://tensorflow.blog/%ed%8c%8c%ec%9d%b4%ec%8d%ac-%eb%a8%b8%ec%8b%a0%eb%9f%ac%eb%8b%9d/1-7-%ec%b2%ab-%eb%b2%88%ec%a7%b8-%ec%95%a0%ed%94%8c%eb%a6%ac%ec%bc%80%ec%9d%b4%ec%85%98-%eb%b6%93%ea%bd%83%ec%9d%98-%ed%92%88%ec%a2%85-%eb%b6%84%eb%a5%98/\n",
        "#https://note.nkmk.me/python-opencv-imread-imwrite/\n",
        "#https://www.tensorflow.org/tutorials/images/classification?hl=ko\n",
        "\n",
        "import pandas as pd\n",
        "import numpy as np\n",
        "import os\n",
        "import tensorflow as tf\n",
        "import cv2\n",
        "from tensorflow import keras\n",
        "from tensorflow.keras import layers\n",
        "from  matplotlib import pyplot as plt\n",
        "import matplotlib.image as mpimg\n",
        "\n",
        "batch_size = 64\n",
        "validation_rate = 0.2\n",
        "img_height = 256\n",
        "img_width = 256\n",
        "\n",
        "data_dir = '/content/drive/MyDrive/archive/train/normal/Augmentation'\n",
        "test_dir = '/content/drive/MyDrive/archive/test/origin'\n",
        "\n",
        "\"\"\"\n",
        "data_gen = keras.preprocessing.image.ImageDataGenerator(\n",
        "    rescale = 1/255,\n",
        "    rotation_range = 40,\n",
        "    width_shift_range = 0.2,\n",
        "    height_shift_range = 0.2,\n",
        "    shear_range = 0.2,\n",
        "    zoom_range = 0.2,\n",
        "    horizontal_flip=True,\n",
        "    validation_split = 0.2\n",
        ")\n",
        "\n",
        "test_gen = keras.preprocessing.image.ImageDataGenerator(rescale = 1/255)\n",
        "\n",
        "train_generator = data_gen.flow_from_directory(\n",
        "    data_dir,\n",
        "    batch_size = batch_size,\n",
        "    target_size = (img_height, img_width),\n",
        "    shuffle = True,\n",
        "    seed = 42,\n",
        "    subset = 'training'\n",
        ")\n",
        "\n",
        "validation_generator = data_gen.flow_from_directory(\n",
        "    data_dir,\n",
        "    batch_size = batch_size,\n",
        "    target_size = (img_height, img_width),\n",
        "    shuffle = True,\n",
        "    seed = 42,\n",
        "    subset = 'validation'\n",
        ")\n",
        "\n",
        "test_generator = test_gen.flow_from_directory(\n",
        "    test_dir, \n",
        "    target_size = (img_height, img_width)\n",
        ")\n",
        "\"\"\"\n",
        "\n",
        "train_ds = keras.preprocessing.image_dataset_from_directory(\n",
        "    data_dir,\n",
        "    label_mode = 'categorical',\n",
        "    validation_split = validation_rate,\n",
        "    subset=\"training\",\n",
        "    seed=42,\n",
        "    image_size=(img_height, img_width),\n",
        "    batch_size=batch_size)\n",
        "\n",
        "val_ds = tf.keras.preprocessing.image_dataset_from_directory(\n",
        "  data_dir,\n",
        "  label_mode = 'categorical',\n",
        "  validation_split = validation_rate,\n",
        "  subset=\"validation\",\n",
        "  seed=42,\n",
        "  image_size=(img_height, img_width),\n",
        "  batch_size=batch_size)\n",
        "\n",
        "class_names = train_ds.class_names\n",
        "num_classes = 2\n",
        "\n",
        "model = keras.Sequential()\n",
        "#model.add(layers.experimental.preprocessing.RandomFlip(\"horizontal\", input_shape=(img_height, img_width,3)))\n",
        "#model.add(layers.experimental.preprocessing.RandomRotation(1))\n",
        "#model.add(layers.experimental.preprocessing.RandomZoom(1))\n",
        "model.add(layers.experimental.preprocessing.Rescaling(1/255))\n",
        "model.add(layers.Conv2D(16, 3, padding = 'same', activation='relu'))\n",
        "model.add(layers.MaxPooling2D(padding = 'same'),)\n",
        "#model.add(layers.Conv2D(16, 3, padding = 'same', activation='relu'))\n",
        "#model.add(layers.MaxPooling2D(padding = 'same'))\n",
        "model.add(layers.Conv2D(32, 3, padding = 'same', activation='relu'))\n",
        "model.add(layers.MaxPooling2D(padding = 'same'))\n",
        "#model.add(layers.Conv2D(32, 3, padding = 'same', activation='relu'))\n",
        "#model.add(layers.MaxPooling2D(padding = 'same'))\n",
        "model.add(layers.Flatten())\n",
        "\"\"\"\n",
        "model.add(layers.Dropout(0.2))\n",
        "model.add(layers.Dense(64, activation = 'relu'))\n",
        "model.add(layers.Dropout(0.2))\n",
        "model.add(layers.Dense(32, activation = 'softmax'))\n",
        "model.add(layers.Dropout(0.2))\n",
        "model.add(layers.Dense(16, activation = 'sigmoid'))\n",
        "model.add(layers.Dropout(0.2))\n",
        "model.add(layers.Dense(num_classes, activation = 'relu'))\n",
        "\"\"\"\n",
        "\n",
        "model.add(layers.Dense(128, activation = \"relu\"))\n",
        "model.add(layers.Dense(64, activation = \"relu\" ))\n",
        "model.add(layers.Dense(32, activation = \"relu\"))\n",
        "model.add(layers.Dense(1, activation = \"sigmoid\")) #As we have two classes\n",
        "\n",
        "\"\"\"\n",
        "model = Sequential([\n",
        "    train_generator,\n",
        "    layers.Conv2D(16, 3, padding = 'same', activation='relu'),\n",
        "    layers.MaxPooling2D(padding = 'same'),\n",
        "    layers.Conv2D(16, 3, padding = 'same', activation='relu'),\n",
        "    layers.MaxPooling2D(padding = 'same'),\n",
        "    layers.Conv2D(32, 3, padding = 'same', activation='relu'),\n",
        "    layers.MaxPooling2D(padding = 'same'),\n",
        "    layers.Conv2D(32, 3, padding = 'same', activation='relu'),\n",
        "    layers.MaxPooling2D(padding = 'same'),\n",
        "    layers.Flatten(),\n",
        "    layers.Dropout(0.2),\n",
        "    layers.Dense(64, activation = 'relu'),\n",
        "    layers.Dropout(0.2),\n",
        "    layers.Dense(16, activation = 'relu'),\n",
        "    layers.Dropout(0.2),\n",
        "    layers.Dense(num_classes, activation = 'sigmoid')\n",
        "])\n",
        "\"\"\"\n",
        "\n",
        "epochs=10\n",
        "model.compile(optimizer = keras.optimizers.Adam(1e-3),\n",
        "              loss = keras.losses.binary_crossentropy(from_logits = True),\n",
        "              metrics=['accuracy'])\n",
        "\n",
        "history = model.fit(train_ds, batch_size = batch_size, epochs = epochs,  \n",
        "                    validation_data = val_ds)\n",
        "model.summary()\n",
        "\n",
        "acc = history.history['accuracy']\n",
        "val_acc = history.history['val_accuracy']\n",
        "\n",
        "loss=history.history['loss']\n",
        "val_loss=history.history['val_loss']\n",
        "\n",
        "epochs_range = range(epochs)\n",
        "\n",
        "plt.figure(figsize=(8, 8))\n",
        "plt.subplot(1, 2, 1)\n",
        "plt.plot(epochs_range, acc, label='Training Accuracy')\n",
        "plt.plot(epochs_range, val_acc, label='Validation Accuracy')\n",
        "plt.legend(loc='lower right')\n",
        "plt.title('Training and Validation Accuracy')\n",
        "\n",
        "plt.subplot(1, 2, 2)\n",
        "plt.plot(epochs_range, loss, label='Training Loss')\n",
        "plt.plot(epochs_range, val_loss, label='Validation Loss')\n",
        "plt.legend(loc='upper right')\n",
        "plt.title('Training and Validation Loss')\n",
        "plt.savefig(\"/content/drive/MyDrive/archive/result.png\")\n",
        "plt.show()\n",
        "\n",
        "for file in os.listdir('/content/drive/MyDrive/archive/test/origin'):\n",
        "    path = os.path.join('/content/drive/MyDrive/archive/test/origin', file)\n",
        "    print(path)\n",
        "    image = cv2.imread(path)\n",
        "    image = cv2.resize(image, (img_height, img_width))\n",
        "    image = np.array(image)\n",
        "    image = image.astype('float32')\n",
        "    img_array = keras.preprocessing.image.img_to_array(image)\n",
        "    img_array = tf.expand_dims(img_array, 0) # Create a batch\n",
        "\n",
        "    predictions = model.predict(img_array)\n",
        "    score = tf.nn.softmax(predictions[0])\n",
        "    print(\n",
        "        \"The image {} most likely belongs to {} with a {:.2f} percent confidence.\"\n",
        "        .format(str(file), class_names[np.argmax(score)], 100 * np.max(score))\n",
        "    )\n"
      ]
    },
    {
      "cell_type": "code",
      "source": [
        ""
      ],
      "metadata": {
        "id": "aZvf1i5-zgpW"
      },
      "execution_count": null,
      "outputs": []
    },
    {
      "cell_type": "code",
      "source": [
        "print(class_names)"
      ],
      "metadata": {
        "colab": {
          "base_uri": "https://localhost:8080/"
        },
        "id": "--4vRYFEJoiw",
        "outputId": "b86eb0d6-95cb-4a18-b439-d9d56e5c8d31"
      },
      "execution_count": 62,
      "outputs": [
        {
          "output_type": "stream",
          "name": "stdout",
          "text": [
            "['good', 'not-good']\n"
          ]
        }
      ]
    }
  ]
}